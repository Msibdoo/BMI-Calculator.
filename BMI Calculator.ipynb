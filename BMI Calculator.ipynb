{
 "cells": [
  {
   "cell_type": "markdown",
   "id": "f8cbae7a",
   "metadata": {},
   "source": [
    "## BMI Calculator"
   ]
  },
  {
   "cell_type": "code",
   "execution_count": 9,
   "id": "665064a8",
   "metadata": {},
   "outputs": [
    {
     "name": "stdout",
     "output_type": "stream",
     "text": [
      "Enter your nameMutala\n",
      "Enter Your Weight in Pounds: 170\n",
      "Enter Your Height in Inches: 69\n",
      "25.101869355177485\n",
      "Mutala, you are overweight\n"
     ]
    }
   ],
   "source": [
    "name = input(\"Enter your name\")\n",
    "\n",
    "weight = int(input(\"Enter Your Weight in Pounds: \"))\n",
    "\n",
    "height = int(input(\"Enter Your Height in Inches: \"))\n",
    "\n",
    "BMI = (weight * 703) / (height * height)\n",
    "\n",
    "print(BMI)\n",
    "\n",
    "if BMI > 0:\n",
    "    if (BMI < 18.5):\n",
    "        print(name +\", you are underweight\")\n",
    "    elif (BMI <= 24.9):\n",
    "        print(name +\", you are normal weight\")\n",
    "    elif (BMI < 29.9):\n",
    "        print(name +\", you are overweight\")\n",
    "    elif (BMI < 34.9):\n",
    "        print(name +\", you are obese\")\n",
    "    elif (BMI < 39.9):\n",
    "        print(name +\", you are severely obese\")\n",
    "    else:\n",
    "        print(name +\", you are mobidly obese\")"
   ]
  },
  {
   "cell_type": "code",
   "execution_count": null,
   "id": "13aab781",
   "metadata": {},
   "outputs": [],
   "source": []
  }
 ],
 "metadata": {
  "kernelspec": {
   "display_name": "Python 3 (ipykernel)",
   "language": "python",
   "name": "python3"
  },
  "language_info": {
   "codemirror_mode": {
    "name": "ipython",
    "version": 3
   },
   "file_extension": ".py",
   "mimetype": "text/x-python",
   "name": "python",
   "nbconvert_exporter": "python",
   "pygments_lexer": "ipython3",
   "version": "3.9.7"
  }
 },
 "nbformat": 4,
 "nbformat_minor": 5
}
